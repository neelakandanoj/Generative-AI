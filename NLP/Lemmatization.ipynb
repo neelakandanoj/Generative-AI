{
 "cells": [
  {
   "cell_type": "markdown",
   "metadata": {},
   "source": [
    "## Lemmatization - (Wordnet Lemmatizer) \n",
    "- Lemmatization is similar to stemming, which also removes prefixes and suffixes from a word's base form. However, lemmatization is more complex because it also categorizes words by part of speech and inflected form. Lemmatization takes into account the word's intended meaning and context, such as where it appears in a sentence or in the surrounding context. For example, a lemmatizer would map the words \"runs\", \"running\", and \"ran\" to the lemma \"run\". \n"
   ]
  },
  {
   "cell_type": "code",
   "execution_count": 1,
   "metadata": {},
   "outputs": [],
   "source": [
    "from nltk.stem import WordNetLemmatizer\n",
    "lemmatization=WordNetLemmatizer()"
   ]
  },
  {
   "cell_type": "code",
   "execution_count": 2,
   "metadata": {},
   "outputs": [
    {
     "name": "stderr",
     "output_type": "stream",
     "text": [
      "[nltk_data] Downloading package wordnet to\n",
      "[nltk_data]     C:\\Users\\neela\\AppData\\Roaming\\nltk_data...\n",
      "[nltk_data]   Package wordnet is already up-to-date!\n"
     ]
    },
    {
     "data": {
      "text/plain": [
       "True"
      ]
     },
     "execution_count": 2,
     "metadata": {},
     "output_type": "execute_result"
    }
   ],
   "source": [
    "import nltk\n",
    "nltk.download('wordnet')"
   ]
  },
  {
   "cell_type": "code",
   "execution_count": 3,
   "metadata": {},
   "outputs": [
    {
     "data": {
      "text/plain": [
       "'going'"
      ]
     },
     "execution_count": 3,
     "metadata": {},
     "output_type": "execute_result"
    }
   ],
   "source": [
    "lemmatization.lemmatize(\"going\")"
   ]
  },
  {
   "cell_type": "code",
   "execution_count": 4,
   "metadata": {},
   "outputs": [
    {
     "data": {
      "text/plain": [
       "'\\nPOS- Noun-n\\nverb-v\\nadjective-a\\nadver-r\\n'"
      ]
     },
     "execution_count": 4,
     "metadata": {},
     "output_type": "execute_result"
    }
   ],
   "source": [
    "\"\"\"\n",
    "POS- Noun-n\n",
    "verb-v\n",
    "adjective-a\n",
    "adver-r\n",
    "\"\"\""
   ]
  },
  {
   "cell_type": "code",
   "execution_count": 5,
   "metadata": {},
   "outputs": [],
   "source": [
    "words=[\"goes\",\"programming\",\"programs\",'Eating','Eaten',\"running\",\"Writes\",\"Writing\",\"slept\",\"Sleeping\",\"Rising\",\"Raisen\",\"Finally\",\"history\"]"
   ]
  },
  {
   "cell_type": "code",
   "execution_count": 6,
   "metadata": {},
   "outputs": [
    {
     "name": "stdout",
     "output_type": "stream",
     "text": [
      "goes: go\n",
      "programming: programming\n",
      "programs: program\n",
      "Eating: Eating\n",
      "Eaten: Eaten\n",
      "running: running\n",
      "Writes: Writes\n",
      "Writing: Writing\n",
      "slept: slept\n",
      "Sleeping: Sleeping\n",
      "Rising: Rising\n",
      "Raisen: Raisen\n",
      "Finally: Finally\n",
      "history: history\n"
     ]
    }
   ],
   "source": [
    "for word in words:\n",
    "    print(f\"{word}: {lemmatization.lemmatize(word)}\")"
   ]
  },
  {
   "cell_type": "code",
   "execution_count": 7,
   "metadata": {},
   "outputs": [
    {
     "data": {
      "text/plain": [
       "'History'"
      ]
     },
     "execution_count": 7,
     "metadata": {},
     "output_type": "execute_result"
    }
   ],
   "source": [
    "lemmatization.lemmatize('History')"
   ]
  },
  {
   "cell_type": "code",
   "execution_count": null,
   "metadata": {},
   "outputs": [],
   "source": []
  }
 ],
 "metadata": {
  "kernelspec": {
   "display_name": ".venv",
   "language": "python",
   "name": "python3"
  },
  "language_info": {
   "codemirror_mode": {
    "name": "ipython",
    "version": 3
   },
   "file_extension": ".py",
   "mimetype": "text/x-python",
   "name": "python",
   "nbconvert_exporter": "python",
   "pygments_lexer": "ipython3",
   "version": "3.12.6"
  }
 },
 "nbformat": 4,
 "nbformat_minor": 2
}
